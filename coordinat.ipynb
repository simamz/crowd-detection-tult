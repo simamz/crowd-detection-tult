{
 "cells": [
  {
   "cell_type": "code",
   "execution_count": 2,
   "metadata": {},
   "outputs": [],
   "source": [
    "import cv2"
   ]
  },
  {
   "cell_type": "code",
   "execution_count": null,
   "metadata": {},
   "outputs": [
    {
     "name": "stdout",
     "output_type": "stream",
     "text": [
      "Berhasil\n"
     ]
    },
    {
     "name": "stderr",
     "output_type": "stream",
     "text": [
      "<>:2: SyntaxWarning: invalid escape sequence '\\K'\n",
      "<>:2: SyntaxWarning: invalid escape sequence '\\K'\n",
      "C:\\Users\\ASUS\\AppData\\Local\\Temp\\ipykernel_444\\3906546319.py:2: SyntaxWarning: invalid escape sequence '\\K'\n",
      "  video_path = 'E:\\Kuliah\\Kuliah\\Semester 6\\Riset\\crowd-detection-tult/video/test1.mp4'  # ganti sesuai path videomu\n"
     ]
    }
   ],
   "source": [
    "# Buka video\n",
    "video_path = 'E:\\Kuliah\\Kuliah\\Semester 6\\Riset\\crowd-detection-tult/video/test1.mp4'  # ganti sesuai path videomu\n",
    "cap = cv2.VideoCapture(video_path)\n",
    "\n",
    "# Baca frame pertama\n",
    "ret, frame = cap.read()\n",
    "frame = cv2.rotate(frame, cv2.ROTATE_90_CLOCKWISE)\n",
    "\n",
    "if ret:\n",
    "    # Simpan sebagai gambar\n",
    "    cv2.imwrite('gambar/frame_0.jpg', frame)\n",
    "    print(\"Berhasil\")\n",
    "else:\n",
    "    print(\"Gagal\")\n",
    "\n",
    "cap.release()\n"
   ]
  },
  {
   "cell_type": "markdown",
   "metadata": {},
   "source": [
    "find coordinat : https://image-coordinate-picker.vercel.app/"
   ]
  },
  {
   "cell_type": "code",
   "execution_count": 19,
   "metadata": {},
   "outputs": [
    {
     "name": "stderr",
     "output_type": "stream",
     "text": [
      "<>:1: SyntaxWarning: invalid escape sequence '\\K'\n",
      "<>:1: SyntaxWarning: invalid escape sequence '\\K'\n",
      "C:\\Users\\ASUS\\AppData\\Local\\Temp\\ipykernel_444\\3912973746.py:1: SyntaxWarning: invalid escape sequence '\\K'\n",
      "  img = cv2.imread(\"E:\\Kuliah\\Kuliah\\Semester 6\\Riset\\crowd-detection-tult\\gambar/frame_0.jpg\")  # Ganti dengan nama file gambar\n"
     ]
    },
    {
     "name": "stdout",
     "output_type": "stream",
     "text": [
      "Koordinat: (6, 519)\n",
      "Koordinat: (402, 493)\n",
      "Koordinat: (398, 663)\n",
      "Koordinat: (4, 778)\n"
     ]
    }
   ],
   "source": [
    "img = cv2.imread(\"E:\\Kuliah\\Kuliah\\Semester 6\\Riset\\crowd-detection-tult\\gambar/frame_0.jpg\")  # Ganti dengan nama file gambar\n",
    "\n",
    "def click_event(event, x, y, flags, params):\n",
    "    if event == cv2.EVENT_LBUTTONDOWN:\n",
    "        print(f\"Koordinat: ({x}, {y})\")\n",
    "\n",
    "cv2.imshow(\"Klik pada Zona Gambar\", img)\n",
    "cv2.setMouseCallback(\"Klik pada Zona Gambar\", click_event)\n",
    "cv2.waitKey(0)\n",
    "cv2.destroyAllWindows()\n"
   ]
  }
 ],
 "metadata": {
  "kernelspec": {
   "display_name": "crowd-detection",
   "language": "python",
   "name": "python3"
  },
  "language_info": {
   "codemirror_mode": {
    "name": "ipython",
    "version": 3
   },
   "file_extension": ".py",
   "mimetype": "text/x-python",
   "name": "python",
   "nbconvert_exporter": "python",
   "pygments_lexer": "ipython3",
   "version": "3.12.5"
  }
 },
 "nbformat": 4,
 "nbformat_minor": 2
}
